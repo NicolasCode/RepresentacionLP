{
 "cells": [
  {
   "cell_type": "markdown",
   "metadata": {},
   "source": [
    "El objetivo de este taller es implementar en Python la representación de un problema, por medio de letras proposicionales y fórmulas lógicas. En este caso, buscamos llenar todas las casillas con un número de 1 a 4 sin repetir. Por ejemplo:\n",
    "\n",
    "![ejemplo](img/ejemplo.png)\n",
    "\n",
    "Debemos primero representar las letras proposicionales, las cuales cruzan la información de qué número está en qué casilla:\n",
    "\n",
    "P(numero, fila, columna)\n",
    "\n",
    "Como queremos que, al implementar el problema en Python, cada letra proposicional sea un único caracter, sugerimos usar la siguiente función de codificación: "
   ]
  },
  {
   "cell_type": "code",
   "execution_count": 2,
   "metadata": {},
   "outputs": [],
   "source": [
    "def codifica(f, c, Nf, Nc):\n",
    "    # Funcion que codifica la fila f y columna c\n",
    "\n",
    "    assert((f >= 0) and (f <= Nf - 1)), 'Primer argumento incorrecto! Debe ser un numero entre 0 y ' + str(Nf) - 1  + \"\\nSe recibio \" + str(f)\n",
    "    assert((c >= 0) and (c <= Nc - 1)), 'Segundo argumento incorrecto! Debe ser un numero entre 0 y ' + str(Nc - 1)  + \"\\nSe recibio \" + str(c)\n",
    "\n",
    "    n = Nc * f + c\n",
    "    # print(u'Número a codificar:', n)\n",
    "    return n\n",
    "\n",
    "def decodifica(n, Nf, Nc):\n",
    "    # Funcion que codifica un caracter en su respectiva fila f y columna c de la tabla\n",
    "\n",
    "    assert((n >= 0) and (n <= Nf * Nc - 1)), 'Codigo incorrecto! Debe estar entre 0 y' + str(Nf * Nc - 1) + \"\\nSe recibio \" + str(n)\n",
    "\n",
    "    f = int(n / Nc)\n",
    "    c = n % Nc\n",
    "    return f, c"
   ]
  },
  {
   "cell_type": "markdown",
   "metadata": {},
   "source": [
    "Observe que la función codifica toma como parámetros el número de la fila, el número de la columna, la cantidad total de filas, y la cantidad total de columnas. Al realizar la operación Nc * f + c, se obtiene un valor como número entero, el cual será único para la casilla especificada.\n",
    "Esta función está muy relacionada con decodifica, la cual recibe como parámetros un número entero n, la cantidad total de filas (Nf), y la cantidad total de columnas (Nc). Halla la fila codificada tomando la parte entera de n/Nc, y encuentra la columna codificada al tomar el residuo de esta operación. De esta manera, se puede encontrar la casilla exacta representada por el número entero, únicamente conociendo las dimensiones del problema.\n",
    "El siguiente ejemplo ilustra como utilizar la función codifica para representar cada letra proposicional como un único caracter. Para esto, se transforman los códigos generados en caracteres ASCII, y estos últimos se toman como las letras proposicionales del problema:"
   ]
  },
  {
   "cell_type": "code",
   "execution_count": 8,
   "metadata": {},
   "outputs": [
    {
     "output_type": "stream",
     "name": "stdout",
     "text": "Letra = Ā, Fila = 0, Columna = 0\nLetra = ā, Fila = 0, Columna = 1\nLetra = Ă, Fila = 1, Columna = 0\nLetra = ă, Fila = 1, Columna = 1\n"
    }
   ],
   "source": [
    "for cod in letras:\n",
    "    print('Letra = '+cod, end=', ')\n",
    "    f, c = decodifica(ord(cod)-256, Nfilas, Ncolumnas)\n",
    "    print('Fila = '+str(f), end=', ')\n",
    "    print('Columna = '+str(c))"
   ]
  },
  {
   "cell_type": "code",
   "execution_count": 3,
   "metadata": {},
   "outputs": [
    {
     "output_type": "stream",
     "name": "stdout",
     "text": "\n\nfilas x columnas\nĀ ā \nĂ ă \n"
    }
   ],
   "source": [
    "Nfilas = 2\n",
    "Ncolumnas = 2\n",
    "letras = []\n",
    "print(\"\\n\\nfilas x columnas\")\n",
    "for i in range(Nfilas):\n",
    "    for j in range(Ncolumnas):\n",
    "        v1 = codifica(i, j, Nfilas, Ncolumnas)\n",
    "        cod = chr(v1 + 256)\n",
    "        print(cod, end = \" \")\n",
    "        letras.append(cod)\n",
    "    print(\"\")"
   ]
  },
  {
   "cell_type": "raw",
   "metadata": {},
   "source": []
  },
  {
   "cell_type": "markdown",
   "metadata": {},
   "source": [
    "Similarmente, se utiliza la función decodificar de la siguiente manera, para obtener la fila y columna de la casilla representada por el caracter:"
   ]
  },
  {
   "cell_type": "raw",
   "metadata": {},
   "source": []
  }
 ],
 "metadata": {
  "kernelspec": {
   "display_name": "Python 3.7.3 64-bit",
   "language": "python",
   "name": "python37364bitf83d8be2ddac466a9791c84677e85865"
  },
  "language_info": {
   "codemirror_mode": {
    "name": "ipython",
    "version": 3
   },
   "file_extension": ".py",
   "mimetype": "text/x-python",
   "name": "python",
   "nbconvert_exporter": "python",
   "pygments_lexer": "ipython3",
   "version": "3.7.3-final"
  }
 },
 "nbformat": 4,
 "nbformat_minor": 4
}