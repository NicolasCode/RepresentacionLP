{
 "cells": [
  {
   "cell_type": "markdown",
   "metadata": {},
   "source": [
    "El objetivo de este taller es implementar en Python la representación de un problema. Debemos llenar todas las casillas con un número de 1 a 4 sin repetir. Por ejemplo:\n",
    "\n",
    "#------------------\n",
    "#|        |       |\n",
    "#|    2   |  4    |\n",
    "#|        |       |\n",
    "#------------------\n",
    "#|        |       |\n",
    "#|    3   |  1    |\n",
    "#|        |       |\n",
    "#------------------\n",
    "\n",
    "Debemos primero representar las letras proposicionales, las cuales cruzan la información de qué número está en qué casilla:\n",
    "\n",
    "P(numero, fila, columna)\n",
    "\n",
    "Como queremos que, al implementar el problema en Python, cada letra proposicional sea un único caracter, sugerimos usar la siguiente codificación: "
   ]
  },
  {
   "cell_type": "code",
   "execution_count": null,
   "metadata": {},
   "outputs": [],
   "source": [
    "def codifica(f, c, Nf, Nc):\n",
    "    # Funcion que codifica la fila f y columna c\n",
    "\n",
    "    assert((f >= 0) and (f <= Nf - 1)), 'Primer argumento incorrecto! Debe ser un numero entre 0 y ' + str(Nf) - 1  + \"\\nSe recibio \" + str(f)\n",
    "    assert((c >= 0) and (c <= Nc - 1)), 'Segundo argumento incorrecto! Debe ser un numero entre 0 y ' + str(Nc - 1)  + \"\\nSe recibio \" + str(c)\n",
    "\n",
    "    n = Nc * f + c\n",
    "    # print(u'Número a codificar:', n)\n",
    "    return n\n",
    "\n",
    "def decodifica(n, Nf, Nc):\n",
    "    # Funcion que codifica un caracter en su respectiva fila f y columna c de la tabla\n",
    "\n",
    "    assert((n >= 0) and (n <= Nf * Nc - 1)), 'Codigo incorrecto! Debe estar entre 0 y' + str(Nf * Nc - 1) + \"\\nSe recibio \" + str(n)\n",
    "\n",
    "    f = int(n / Nc)\n",
    "    c = n % Nc\n",
    "    return f, c"
   ]
  },
  {
   "cell_type": "markdown",
   "metadata": {},
   "source": [
    "Observe que la función codifica BBBBB"
   ]
  },
  {
   "cell_type": "code",
   "execution_count": null,
   "metadata": {},
   "outputs": [],
   "source": [
    "print('Hola mundo!')"
   ]
  },
  {
   "cell_type": "code",
   "execution_count": null,
   "metadata": {},
   "outputs": [],
   "source": []
  },
  {
   "cell_type": "code",
   "execution_count": null,
   "metadata": {},
   "outputs": [],
   "source": [
    "Nfilas = 2\n",
    "Ncolumnas = 2\n",
    "letras = []\n",
    "print(\"\\n\\nfilas x columnas\")\n",
    "for i in range(Nfilas):\n",
    "    for j in range(Ncolumnas):\n",
    "        v1 = C.codifica(i, j, Nfilas, Ncolumnas)\n",
    "        cod = chr(v1 + 256)\n",
    "        print(cod, end = \" \")\n",
    "        letras.append(cod)\n",
    "    print(\"\")"
   ]
  },
  {
   "cell_type": "raw",
   "metadata": {},
   "source": []
  },
  {
   "cell_type": "raw",
   "metadata": {},
   "source": []
  }
 ],
 "metadata": {
  "kernelspec": {
   "display_name": "Python 3",
   "language": "python",
   "name": "python3"
  },
  "language_info": {
   "codemirror_mode": {
    "name": "ipython",
    "version": 3
   },
   "file_extension": ".py",
   "mimetype": "text/x-python",
   "name": "python",
   "nbconvert_exporter": "python",
   "pygments_lexer": "ipython3",
   "version": "3.7.6"
  }
 },
 "nbformat": 4,
 "nbformat_minor": 4
}
