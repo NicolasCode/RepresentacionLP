{
 "cells": [
  {
   "cell_type": "markdown",
   "metadata": {},
   "source": [
    "El objetivo de este taller es implementar en Python la representación de un problema, por medio de letras proposicionales y fórmulas lógicas. En este caso, buscamos llenar todas las casillas con un número de 0 a 3 sin repetir. Por ejemplo:\n",
    "\n",
    "![ejemplo](img/ejemplo.png)\n",
    "\n",
    "Debemos primero representar las letras proposicionales, las cuales cruzan la información de qué número está en qué casilla:\n",
    "\n",
    "P(fila, columna, numero)\n",
    "\n",
    "Este problema será resuelto en Python, en dos etapas distintas: En primer lugar, codificaremos únicamente la fila y columna de las casillas del tablero. Después, nos basaremos en esta primera codificación para añadir información sobre el número dentro de la casilla.\n",
    "\n",
    "Como queremos que, al implementar el problema en Python, cada letra proposicional sea un único caracter, sugerimos usar las siguientes funciones de codificación y decodificación: "
   ]
  },
  {
   "cell_type": "code",
   "execution_count": 16,
   "metadata": {},
   "outputs": [],
   "source": [
    "def codifica(f, c, Nf, Nc):\n",
    "    # Funcion que codifica la fila f y columna c\n",
    "    assert((f >= 0) and (f <= Nf - 1)), 'Primer argumento incorrecto! Debe ser un numero entre 0 y ' + str(Nf) - 1  + \"\\nSe recibio \" + str(f)\n",
    "    assert((c >= 0) and (c <= Nc - 1)), 'Segundo argumento incorrecto! Debe ser un numero entre 0 y ' + str(Nc - 1)  + \"\\nSe recibio \" + str(c)\n",
    "    n = Nc * f + c\n",
    "    # print(u'Número a codificar:', n)\n",
    "    return n\n",
    "\n",
    "def decodifica(n, Nf, Nc):\n",
    "    # Funcion que codifica un caracter en su respectiva fila f y columna c de la tabla\n",
    "    assert((n >= 0) and (n <= Nf * Nc - 1)), 'Codigo incorrecto! Debe estar entre 0 y' + str(Nf * Nc - 1) + \"\\nSe recibio \" + str(n)\n",
    "    f = int(n / Nc)\n",
    "    c = n % Nc\n",
    "    return f, c"
   ]
  },
  {
   "cell_type": "markdown",
   "metadata": {},
   "source": [
    "Observe que la función `codifica` toma como parámetros el número de la fila, el número de la columna, la cantidad total de filas, y la cantidad total de columnas. Al realizar la operación Nc * f + c, se obtiene un valor como número entero, el cual será único para la casilla especificada. En el siguiente fragmento de código, se observa como, en un solo número, es almacenada la información tanto de la fila como de la columna de la casilla dada."
   ]
  },
  {
   "cell_type": "code",
   "execution_count": 17,
   "metadata": {},
   "outputs": [
    {
     "output_type": "stream",
     "name": "stdout",
     "text": "Números correspondientes a la codificación\n\nfilas x columnas\n0 1 \n2 3 \n"
    }
   ],
   "source": [
    "Nfilas = 2\n",
    "Ncolumnas = 2\n",
    "print(u\"Números correspondientes a la codificación\")\n",
    "print(\"\\nfilas x columnas\")\n",
    "for i in range(Nfilas):\n",
    "    for j in range(Ncolumnas):\n",
    "        v1 = codifica(i, j, Nfilas, Ncolumnas)\n",
    "        print(v1, end = \" \")\n",
    "    print(\"\")"
   ]
  },
  {
   "cell_type": "markdown",
   "metadata": {},
   "source": [
    "Esta función está muy relacionada con `decodifica`, la cual recibe como parámetros un número entero n, la cantidad total de filas (Nf), y la cantidad total de columnas (Nc). Halla la fila codificada tomando la parte entera de n/Nc, y encuentra la columna codificada al tomar el residuo de esta operación. De esta manera, se puede encontrar la casilla exacta representada por el número entero, únicamente conociendo las dimensiones del problema. Así, se pueden decodificar los números obtenidos anteriormente de la siguiente manera:"
   ]
  },
  {
   "cell_type": "code",
   "execution_count": 18,
   "metadata": {},
   "outputs": [
    {
     "output_type": "stream",
     "name": "stdout",
     "text": "Código: 0, Fila: 0 ,Columna: 0\nCódigo: 1, Fila: 0 ,Columna: 1\nCódigo: 2, Fila: 1 ,Columna: 0\nCódigo: 3, Fila: 1 ,Columna: 1\n"
    }
   ],
   "source": [
    "for v1 in range(4):\n",
    "    f, c = decodifica(v1, Nfilas, Ncolumnas)\n",
    "    print('Código: '+str(v1)+', Fila: '+str(f), ',Columna: '+str(c))"
   ]
  },
  {
   "cell_type": "markdown",
   "metadata": {},
   "source": [
    "En un problema que solamente requiera cruzar información acerca de la fila y columna, se puede proceder a transformar la salida de la función `codifica` en caracteres. Se presentará el código en Python que cumple esta tarea, y después retomaremos el problema original, con tres variables.\n",
    "\n",
    "El siguiente código ilustra como utilizar la función `codifica` para representar cada letra proposicional como un único caracter. Para esto, se transforman los códigos generados en caracteres ASCII, y estos últimos se toman como las letras proposicionales del problema:"
   ]
  },
  {
   "cell_type": "code",
   "execution_count": 19,
   "metadata": {},
   "outputs": [
    {
     "output_type": "stream",
     "name": "stdout",
     "text": "\n\nfilas x columnas\nĀ ā \nĂ ă \n"
    }
   ],
   "source": [
    "letras = []\n",
    "print(\"\\n\\nfilas x columnas\")\n",
    "for i in range(Nfilas):\n",
    "    for j in range(Ncolumnas):\n",
    "        v1 = codifica(i, j, Nfilas, Ncolumnas)\n",
    "        cod = chr(v1 + 256)\n",
    "        print(cod, end = \" \")\n",
    "        letras.append(cod)\n",
    "    print(\"\")"
   ]
  },
  {
   "cell_type": "markdown",
   "metadata": {},
   "source": [
    "Similarmente, se utiliza la función `decodifica` de la siguiente manera, para obtener la fila y columna de la casilla representada por el caracter:"
   ]
  },
  {
   "cell_type": "code",
   "execution_count": 20,
   "metadata": {},
   "outputs": [
    {
     "output_type": "stream",
     "name": "stdout",
     "text": "Letra = Ā, Fila = 0, Columna = 0\nLetra = ā, Fila = 0, Columna = 1\nLetra = Ă, Fila = 1, Columna = 0\nLetra = ă, Fila = 1, Columna = 1\n"
    }
   ],
   "source": [
    "for cod in letras:\n",
    "    print('Letra = '+cod, end=', ')\n",
    "    f, c = decodifica(ord(cod)-256, Nfilas, Ncolumnas)\n",
    "    print('Fila = '+str(f), end=', ')\n",
    "    print('Columna = '+str(c))"
   ]
  },
  {
   "cell_type": "markdown",
   "metadata": {},
   "source": [
    "Retomando el problema original, debemos tomar en cuenta el número que ocupa cada casilla, además de la posición de la misma. Es decir, debemos almacenar en un mismo caracter la información correspondiente al valor de la casilla, la fila, y la columna de la misma. Para esto, nos basaremos en los códigos anteriores para crear funciones que nos permitan codificar tres variables. Estas funciones, similares a la representación P(fila, columna, numero) mencionada anteriormente, son presentadas a continuación:"
   ]
  },
  {
   "cell_type": "code",
   "execution_count": 21,
   "metadata": {},
   "outputs": [],
   "source": [
    "def P(f, c, o, Nf, Nc, No):\n",
    "    # Funcion que codifica tres argumentos\n",
    "    assert((f >= 0) and (f <= Nf - 1)), 'Primer argumento incorrecto! Debe ser un numero entre 0 y ' + str(Nf - 1) + \"\\nSe recibio \" + str(f)\n",
    "    assert((c >= 0) and (c <= Nc - 1)), 'Segundo argumento incorrecto! Debe ser un numero entre 0 y ' + str(Nc - 1) + \"\\nSe recibio \" + str(c)\n",
    "    assert((o >= 0) and (o <= No - 1)), 'Tercer argumento incorrecto! Debe ser un numero entre 0 y ' + str(No - 1)  + \"\\nSe recibio \" + str(o)\n",
    "    v1 = codifica(f, c, Nf, Nc)\n",
    "    v2 = codifica(v1, o, Nf * Nc, No)\n",
    "    codigo = chr(256 + v2)\n",
    "    return codigo\n",
    "\n",
    "def Pinv(codigo, Nf, Nc, No):\n",
    "    # Funcion que codifica un caracter en su respectiva fila f, columna c y objeto o\n",
    "    x = ord(codigo) - 256\n",
    "    v1, o = decodifica(x, Nf * Nc, No)\n",
    "    f, c = decodifica(v1, Nf, Nc)\n",
    "    return f, c, o"
   ]
  },
  {
   "cell_type": "markdown",
   "metadata": {},
   "source": [
    "Ahora, se trabaja con una mayor cantidad de argumentos funcionales. Para usar la función P, se recibe la fila f, la columna c, el valor o, la cantidad total de filas Nf, la cantidad total de columnas Nc, y la cantidad total de valores No. Usando dos veces la función codifica, como se observa en el código, se obtiene una letra proposicional única para representar un número dado en una casilla específica. Similarmente, la función Pinv retorna la fila f, la columna c, y el número o codificados en un caracter dado. A continuación, se presenta un posible uso de estas dos funciones:"
   ]
  },
  {
   "cell_type": "code",
   "execution_count": 22,
   "metadata": {},
   "outputs": [
    {
     "output_type": "stream",
     "name": "stdout",
     "text": "Numero: 0\nfilas x columnas\nĀ Ą \nĈ Č \n\n\nNumero: 1\nfilas x columnas\nā ą \nĉ č \n\n\nNumero: 2\nfilas x columnas\nĂ Ć \nĊ Ď \n\n\nNumero: 3\nfilas x columnas\nă ć \nċ ď \n\n\n"
    }
   ],
   "source": [
    "letras = []\n",
    "Nnumeros = 4\n",
    "for k in range(Nnumeros):\n",
    "    print(\"Numero: \"+str(k))\n",
    "    print(\"filas x columnas\")\n",
    "    for i in range(Nfilas):\n",
    "        for j in range(Ncolumnas):\n",
    "            cod = P(i, j, k, Nfilas, Ncolumnas, Nnumeros)\n",
    "            print(cod, end = \" \")\n",
    "            letras.append(cod)\n",
    "        print(\"\")\n",
    "    print('\\n')"
   ]
  },
  {
   "cell_type": "code",
   "execution_count": 23,
   "metadata": {},
   "outputs": [
    {
     "output_type": "stream",
     "name": "stdout",
     "text": "Letra = Ā, Numero = 0, Fila = 0, Columna = 0\nLetra = Ą, Numero = 0, Fila = 0, Columna = 1\nLetra = Ĉ, Numero = 0, Fila = 1, Columna = 0\nLetra = Č, Numero = 0, Fila = 1, Columna = 1\nLetra = ā, Numero = 1, Fila = 0, Columna = 0\nLetra = ą, Numero = 1, Fila = 0, Columna = 1\nLetra = ĉ, Numero = 1, Fila = 1, Columna = 0\nLetra = č, Numero = 1, Fila = 1, Columna = 1\nLetra = Ă, Numero = 2, Fila = 0, Columna = 0\nLetra = Ć, Numero = 2, Fila = 0, Columna = 1\nLetra = Ċ, Numero = 2, Fila = 1, Columna = 0\nLetra = Ď, Numero = 2, Fila = 1, Columna = 1\nLetra = ă, Numero = 3, Fila = 0, Columna = 0\nLetra = ć, Numero = 3, Fila = 0, Columna = 1\nLetra = ċ, Numero = 3, Fila = 1, Columna = 0\nLetra = ď, Numero = 3, Fila = 1, Columna = 1\n"
    }
   ],
   "source": [
    "for cod in letras:\n",
    "    print('Letra = '+cod, end=', ')\n",
    "    f, c, o = Pinv(cod, Nfilas, Ncolumnas, Nnumeros)\n",
    "    print('Numero = '+str(o), end=', ')\n",
    "    print('Fila = '+str(f), end=', ')\n",
    "    print('Columna = '+str(c))"
   ]
  },
  {
   "cell_type": "markdown",
   "metadata": {},
   "source": [
    "Ahora, es necesario crear las reglas que limitarán las posibles interpretaciones para las letras proposicionales. En este caso, tenemos que cada número debe ser usado exactamente una vez.\n",
    "\n",
    "Para este fin, se propone el siguiente procedimiento:"
   ]
  },
  {
   "cell_type": "markdown",
   "metadata": {},
   "source": [
    "1) La fórmula para representar que, en la primera casilla, solo puede estar el número 0, es la siguiente:\n",
    "\n",
    "$$P(0,0,0) \\leftrightarrow \\neg\\left(\\bigvee_{x=1}^3P(0,0,x)\\right)$$\n",
    "\n",
    "Que se implementa en Python de la siguiente manera:"
   ]
  },
  {
   "cell_type": "code",
   "execution_count": 24,
   "metadata": {},
   "outputs": [
    {
     "output_type": "stream",
     "name": "stdout",
     "text": "āĂOăO-Ā=\n"
    }
   ],
   "source": [
    "inicial = True\n",
    "for x in range(1,4):\n",
    "    if inicial:\n",
    "        formula1 = P(0,0,x,Nfilas, Ncolumnas, Nnumeros)\n",
    "        inicial = False\n",
    "    else:\n",
    "        formula1 += P(0,0,x,Nfilas, Ncolumnas, Nnumeros) + \"O\"\n",
    "\n",
    "formula1 = formula1 + \"-\" + P(0,0,0,Nfilas,Ncolumnas,Nnumeros) + '='\n",
    "print(formula1)"
   ]
  },
  {
   "cell_type": "markdown",
   "metadata": {},
   "source": [
    "Observe que, la fórmula resultante, es difícil de entender a simple vista, aunque un computador pueda trabajarla fácilmente con los algoritmos vistos en clase. Para visualizar la fórmula anterior de manera más comprensible, se tiene la siguiente versión modificada de la función `Inorder`. Con esta, entenderemos el significado del string generado por el código anterior."
   ]
  },
  {
   "cell_type": "code",
   "execution_count": 25,
   "metadata": {},
   "outputs": [],
   "source": [
    "def InorderP(f):\n",
    "    pass"
   ]
  },
  {
   "cell_type": "markdown",
   "metadata": {},
   "source": [
    "2) Para el siguiente paso, se debe replicar este procedimiento para los demás valores de los números dentro de las casillas. Es decir, se debe crear una regla que indique que, para cada uno de los posibles valores que pueden ser ingresados dentro de las casillas (los números del 0 al 3), este puede ocupar la primera casilla si y sólo si ninguno de los otros números ya ocupa esta primera casilla. La fórmula de lógica proposicional que expresa esta restricción es la siguiente:\n",
    "\n",
    "$$\\bigwedge_{i=0}^3\\left(P(0,0,i) \\leftrightarrow \\neg\\left(\\bigvee_{x\\neq i}P(0,0,x)\\right)\\right)$$\n",
    "\n",
    "`Ejercicio 1:` Implemente la fórmula anterior como un string de Python."
   ]
  },
  {
   "cell_type": "code",
   "execution_count": 26,
   "metadata": {},
   "outputs": [],
   "source": [
    "# Implemente en esta celda la formula anterior, como un string en notacion polaca inversa"
   ]
  },
  {
   "cell_type": "markdown",
   "metadata": {},
   "source": [
    "3) Ahora que hemos creado la restricción para la primera celda, el siguiente paso consiste en replicar esta misma para todas las demás celdas. Con esto, tendremos que cada celda podrá ser ocupada por exactamente un número. La fórmula lógica que expresa esta restricción es la siguiente:\n",
    "$$\\bigwedge_{f=0}^1\\left(\\bigwedge_{c=0}^1\\left(\\bigwedge_{n=0}^3\\left(P(f,c,n) \\leftrightarrow \\neg\\left(\\bigvee_{x\\neq n}P(f,c,x)\\right)\\right)\\right)\\right)$$\n",
    "En este caso, `f` representa la fila de la casilla, `c` representa la columna de la casilla, `n` representa al valor dentro de la casilla, y `x` representa a algún valor que no ocupa la casilla.\n",
    "\n",
    "`Ejercicio 2:` Implemente la fórmula anterior como un string de Python."
   ]
  },
  {
   "cell_type": "code",
   "execution_count": 27,
   "metadata": {},
   "outputs": [],
   "source": [
    "# Implemente en esta celda la formula anterior, como un string en notacion polaca inversa"
   ]
  }
 ],
 "metadata": {
  "kernelspec": {
   "display_name": "Python 3.7.3 64-bit",
   "language": "python",
   "name": "python37364bitf83d8be2ddac466a9791c84677e85865"
  },
  "language_info": {
   "codemirror_mode": {
    "name": "ipython",
    "version": 3
   },
   "file_extension": ".py",
   "mimetype": "text/x-python",
   "name": "python",
   "nbconvert_exporter": "python",
   "pygments_lexer": "ipython3",
   "version": "3.7.3-final"
  }
 },
 "nbformat": 4,
 "nbformat_minor": 4
}