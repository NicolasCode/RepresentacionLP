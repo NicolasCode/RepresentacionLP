{
 "cells": [
  {
   "cell_type": "markdown",
   "metadata": {},
   "source": [
    "El objetivo de este taller es implementar en Python la representación de un problema, por medio de letras proposicionales y fórmulas lógicas. En este caso, buscamos llenar todas las casillas con un número de 1 a 4 sin repetir. Por ejemplo:\n",
    "\n",
    "![ejemplo](img/ejemplo.png)\n",
    "\n",
    "Debemos primero representar las letras proposicionales, las cuales cruzan la información de qué número está en qué casilla:\n",
    "\n",
    "P(numero, fila, columna)\n",
    "\n",
    "Como queremos que, al implementar el problema en Python, cada letra proposicional sea un único caracter, sugerimos usar la siguiente función de codificación: "
   ]
  },
  {
   "cell_type": "code",
   "execution_count": 4,
   "metadata": {},
   "outputs": [],
   "source": [
    "def codifica(f, c, Nf, Nc):\n",
    "    # Funcion que codifica la fila f y columna c\n",
    "    assert((f >= 0) and (f <= Nf - 1)), 'Primer argumento incorrecto! Debe ser un numero entre 0 y ' + str(Nf) - 1  + \"\\nSe recibio \" + str(f)\n",
    "    assert((c >= 0) and (c <= Nc - 1)), 'Segundo argumento incorrecto! Debe ser un numero entre 0 y ' + str(Nc - 1)  + \"\\nSe recibio \" + str(c)\n",
    "    n = Nc * f + c\n",
    "    # print(u'Número a codificar:', n)\n",
    "    return n\n",
    "\n",
    "def decodifica(n, Nf, Nc):\n",
    "    # Funcion que codifica un caracter en su respectiva fila f y columna c de la tabla\n",
    "    assert((n >= 0) and (n <= Nf * Nc - 1)), 'Codigo incorrecto! Debe estar entre 0 y' + str(Nf * Nc - 1) + \"\\nSe recibio \" + str(n)\n",
    "    f = int(n / Nc)\n",
    "    c = n % Nc\n",
    "    return f, c"
   ]
  },
  {
   "cell_type": "markdown",
   "metadata": {},
   "source": [
    "Observe que la función codifica toma como parámetros el número de la fila, el número de la columna, la cantidad total de filas, y la cantidad total de columnas. Al realizar la operación Nc * f + c, se obtiene un valor como número entero, el cual será único para la casilla especificada. En el siguiente fragmento de código, se observa como, en un solo número, es almacenada la información tanto de la fila como de la columna de la casilla dada."
   ]
  },
  {
   "cell_type": "code",
   "execution_count": 18,
   "metadata": {},
   "outputs": [
    {
     "output_type": "stream",
     "name": "stdout",
     "text": "Números correspondientes a la codificación\n\nfilas x columnas\n0 1 \n2 3 \n"
    }
   ],
   "source": [
    "Nfilas = 2\n",
    "Ncolumnas = 2\n",
    "print(u\"Números correspondientes a la codificación\")\n",
    "print(\"\\nfilas x columnas\")\n",
    "for i in range(Nfilas):\n",
    "    for j in range(Ncolumnas):\n",
    "        v1 = codifica(i, j, Nfilas, Ncolumnas)\n",
    "        print(v1, end = \" \")\n",
    "    print(\"\")"
   ]
  },
  {
   "cell_type": "markdown",
   "metadata": {},
   "source": [
    "Esta función está muy relacionada con decodifica, la cual recibe como parámetros un número entero n, la cantidad total de filas (Nf), y la cantidad total de columnas (Nc). Halla la fila codificada tomando la parte entera de n/Nc, y encuentra la columna codificada al tomar el residuo de esta operación. De esta manera, se puede encontrar la casilla exacta representada por el número entero, únicamente conociendo las dimensiones del problema."
   ]
  },
  {
   "cell_type": "markdown",
   "metadata": {},
   "source": [
    "El siguiente código ilustra como utilizar la función codifica para representar cada letra proposicional como un único caracter. Para esto, se transforman los códigos generados en caracteres ASCII, y estos últimos se toman como las letras proposicionales del problema:"
   ]
  },
  {
   "cell_type": "code",
   "execution_count": 6,
   "metadata": {},
   "outputs": [
    {
     "output_type": "stream",
     "name": "stdout",
     "text": "\n\nfilas x columnas\nĀ ā \nĂ ă \n"
    }
   ],
   "source": [
    "letras = []\n",
    "print(\"\\n\\nfilas x columnas\")\n",
    "for i in range(Nfilas):\n",
    "    for j in range(Ncolumnas):\n",
    "        v1 = codifica(i, j, Nfilas, Ncolumnas)\n",
    "        cod = chr(v1 + 256)\n",
    "        print(cod, end = \" \")\n",
    "        letras.append(cod)\n",
    "    print(\"\")"
   ]
  },
  {
   "cell_type": "markdown",
   "metadata": {},
   "source": [
    "Similarmente, se utiliza la función decodificar de la siguiente manera, para obtener la fila y columna de la casilla representada por el caracter:"
   ]
  },
  {
   "cell_type": "code",
   "execution_count": 7,
   "metadata": {},
   "outputs": [
    {
     "output_type": "stream",
     "name": "stdout",
     "text": "Letra = Ā, Fila = 0, Columna = 0\nLetra = ā, Fila = 0, Columna = 1\nLetra = Ă, Fila = 1, Columna = 0\nLetra = ă, Fila = 1, Columna = 1\n"
    }
   ],
   "source": [
    "for cod in letras:\n",
    "    print('Letra = '+cod, end=', ')\n",
    "    f, c = decodifica(ord(cod)-256, Nfilas, Ncolumnas)\n",
    "    print('Fila = '+str(f), end=', ')\n",
    "    print('Columna = '+str(c))"
   ]
  },
  {
   "cell_type": "markdown",
   "metadata": {},
   "source": [
    "No obstante, en el presente problema, debemos tomar en cuenta el número que ocupa cada casilla, además de la posición de la misma. Es decir, debemos almacenar en un mismo caracter la información correspondiente al valor de la casilla, la fila, y la columna de la misma. Para esto, nos basaremos en los códigos anteriores para crear funciones que nos permitan codificar tres variables. Estas funciones, similares a la representación P(numero, fila, columna) mencionada anteriormente, son presentadas a continuación:"
   ]
  },
  {
   "cell_type": "code",
   "execution_count": 8,
   "metadata": {},
   "outputs": [],
   "source": [
    "def P(f, c, o, Nf, Nc, No):\n",
    "    # Funcion que codifica tres argumentos\n",
    "    assert((f >= 0) and (f <= Nf - 1)), 'Primer argumento incorrecto! Debe ser un numero entre 0 y ' + str(Nf - 1) + \"\\nSe recibio \" + str(f)\n",
    "    assert((c >= 0) and (c <= Nc - 1)), 'Segundo argumento incorrecto! Debe ser un numero entre 0 y ' + str(Nc - 1) + \"\\nSe recibio \" + str(c)\n",
    "    assert((o >= 0) and (o <= No - 1)), 'Tercer argumento incorrecto! Debe ser un numero entre 0 y ' + str(No - 1)  + \"\\nSe recibio \" + str(o)\n",
    "    v1 = codifica(f, c, Nf, Nc)\n",
    "    v2 = codifica(v1, o, Nf * Nc, No)\n",
    "    codigo = chr(256 + v2)\n",
    "    return codigo\n",
    "\n",
    "def Pinv(codigo, Nf, Nc, No):\n",
    "    # Funcion que codifica un caracter en su respectiva fila f, columna c y objeto o\n",
    "    x = ord(codigo) - 256\n",
    "    v1, o = decodifica(x, Nf * Nc, No)\n",
    "    f, c = decodifica(v1, Nf, Nc)\n",
    "    return f, c, o"
   ]
  },
  {
   "cell_type": "markdown",
   "metadata": {},
   "source": [
    "Ahora, se trabaja con una mayor cantidad de argumentos funcionales. Para usar la función P, se recibe la fila f, la columna c, el valor o, la cantidad total de filas Nf, la cantidad total de columnas Nc, y la cantidad total de valores No. Usando dos veces la función codifica, como se observa en el código, de obtiene una letra proposicional única para representar un número dado en una casilla específica. Similarmente, la función Pinv retorna la fila f, la columna c, y el número o codificados en un caracter dado. A continuación, se presenta un posible uso de estas dos funciones:"
   ]
  },
  {
   "cell_type": "code",
   "execution_count": 14,
   "metadata": {},
   "outputs": [
    {
     "output_type": "stream",
     "name": "stdout",
     "text": "Numero: 0\nfilas x columnas\nĀ Ą \nĈ Č \n\n\nNumero: 1\nfilas x columnas\nā ą \nĉ č \n\n\nNumero: 2\nfilas x columnas\nĂ Ć \nĊ Ď \n\n\nNumero: 3\nfilas x columnas\nă ć \nċ ď \n\n\n"
    }
   ],
   "source": [
    "letras = []\n",
    "Nnumeros = 4\n",
    "for k in range(Nnumeros):\n",
    "    print(\"Numero: \"+str(k))\n",
    "    print(\"filas x columnas\")\n",
    "    for i in range(Nfilas):\n",
    "        for j in range(Ncolumnas):\n",
    "            cod = P(i, j, k, Nfilas, Ncolumnas, Nnumeros)\n",
    "            print(cod, end = \" \")\n",
    "            letras.append(cod)\n",
    "        print(\"\")\n",
    "    print('\\n')"
   ]
  },
  {
   "cell_type": "code",
   "execution_count": 16,
   "metadata": {},
   "outputs": [
    {
     "output_type": "stream",
     "name": "stdout",
     "text": "Letra = Ā, Fila = 0, Columna = 0, Numero = 0\nLetra = Ą, Fila = 0, Columna = 1, Numero = 0\nLetra = Ĉ, Fila = 1, Columna = 0, Numero = 0\nLetra = Č, Fila = 1, Columna = 1, Numero = 0\nLetra = ā, Fila = 0, Columna = 0, Numero = 1\nLetra = ą, Fila = 0, Columna = 1, Numero = 1\nLetra = ĉ, Fila = 1, Columna = 0, Numero = 1\nLetra = č, Fila = 1, Columna = 1, Numero = 1\nLetra = Ă, Fila = 0, Columna = 0, Numero = 2\nLetra = Ć, Fila = 0, Columna = 1, Numero = 2\nLetra = Ċ, Fila = 1, Columna = 0, Numero = 2\nLetra = Ď, Fila = 1, Columna = 1, Numero = 2\nLetra = ă, Fila = 0, Columna = 0, Numero = 3\nLetra = ć, Fila = 0, Columna = 1, Numero = 3\nLetra = ċ, Fila = 1, Columna = 0, Numero = 3\nLetra = ď, Fila = 1, Columna = 1, Numero = 3\n"
    }
   ],
   "source": [
    "for cod in letras:\n",
    "    print('Letra = '+cod, end=', ')\n",
    "    f, c, o = Pinv(cod, Nfilas, Ncolumnas, Nnumeros)\n",
    "    print('Fila = '+str(f), end=', ')\n",
    "    print('Columna = '+str(c), end=', ')\n",
    "    print('Numero = '+str(o))"
   ]
  },
  {
   "cell_type": "markdown",
   "metadata": {},
   "source": [
    "Ahora, es necesario crear las reglas que limitarán las posibles interpretaciones para las letras proposicionales. En este caso, tenemos que cada número debe ser usado exactamente una vez. Es decir:\n",
    "\n",
    "1) Todos los números deben ser utilizados.\n",
    "\n",
    "2) Usar un número en una casilla, lo deshabilita para el resto de las casillas.\n",
    "\n",
    "En los siguientes espacios, escriba el código para crear estas dos reglas:"
   ]
  },
  {
   "cell_type": "code",
   "execution_count": null,
   "metadata": {},
   "outputs": [],
   "source": [
    "regla1 = ''\n",
    "'''\n",
    "\n",
    "'''"
   ]
  },
  {
   "cell_type": "code",
   "execution_count": null,
   "metadata": {},
   "outputs": [],
   "source": [
    "regla2 = ''\n",
    "'''\n",
    "\n",
    "'''"
   ]
  }
 ],
 "metadata": {
  "kernelspec": {
   "display_name": "Python 3.7.3 64-bit",
   "language": "python",
   "name": "python37364bitf83d8be2ddac466a9791c84677e85865"
  },
  "language_info": {
   "codemirror_mode": {
    "name": "ipython",
    "version": 3
   },
   "file_extension": ".py",
   "mimetype": "text/x-python",
   "name": "python",
   "nbconvert_exporter": "python",
   "pygments_lexer": "ipython3",
   "version": "3.7.3-final"
  }
 },
 "nbformat": 4,
 "nbformat_minor": 4
}